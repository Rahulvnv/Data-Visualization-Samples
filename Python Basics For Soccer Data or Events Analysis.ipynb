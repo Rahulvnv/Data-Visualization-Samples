{
 "cells": [
  {
   "cell_type": "markdown",
   "id": "33e05c92",
   "metadata": {},
   "source": [
    "# The 3 Most Important Libraries that should help build any kind of Viz\n",
    "   \n",
    "   \n",
    "   # 1) Pandas\n",
    "   # 2) Matplotlib\n",
    "   # 3) Mpl Soccer"
   ]
  },
  {
   "cell_type": "markdown",
   "id": "92c9c315",
   "metadata": {},
   "source": [
    "# Pandas- Library to Read Data"
   ]
  },
  {
   "cell_type": "code",
   "execution_count": null,
   "id": "dd4bea38",
   "metadata": {},
   "outputs": [],
   "source": [
    "# Let's read some event data for the 1st time\n",
    "# to start with let's use the import method to get a library\n",
    "import pandas as pd   # we can use the 'as' keyword to import any library in a shortname we want\n",
    "bvb= pd.read_csv(\"BVB_Events.csv\",low_memory=False)"
   ]
  },
  {
   "cell_type": "code",
   "execution_count": null,
   "id": "e2d79139",
   "metadata": {},
   "outputs": [],
   "source": [
    "pd.set_option(\"display.max_columns\",300)\n",
    "pd.set_option(\"display.max_rows\",500)"
   ]
  },
  {
   "cell_type": "code",
   "execution_count": null,
   "id": "44fa88a2",
   "metadata": {
    "scrolled": true
   },
   "outputs": [],
   "source": [
    "# this is how event data looks like\n",
    "bvb"
   ]
  },
  {
   "cell_type": "code",
   "execution_count": null,
   "id": "b95c265a",
   "metadata": {},
   "outputs": [],
   "source": [
    "bvb.columns.tolist()  # this helps you in getting the info on all columns in the data"
   ]
  },
  {
   "cell_type": "code",
   "execution_count": null,
   "id": "7098827a",
   "metadata": {},
   "outputs": [],
   "source": [
    "bvb['type'].unique()"
   ]
  },
  {
   "cell_type": "code",
   "execution_count": null,
   "id": "ad8faacf",
   "metadata": {},
   "outputs": [],
   "source": [
    "bvb_only=bvb[bvb['teamId']==44] # filtering out only BVB Events"
   ]
  },
  {
   "cell_type": "code",
   "execution_count": null,
   "id": "1d40cd63",
   "metadata": {
    "scrolled": true
   },
   "outputs": [],
   "source": [
    "bvb_only"
   ]
  },
  {
   "cell_type": "code",
   "execution_count": null,
   "id": "7f2e00c4",
   "metadata": {},
   "outputs": [],
   "source": [
    "bvb_passes=bvb_only[bvb_only['type']=='Pass']"
   ]
  },
  {
   "cell_type": "code",
   "execution_count": null,
   "id": "ebb71d7e",
   "metadata": {
    "scrolled": true
   },
   "outputs": [],
   "source": [
    "# groupby is an important function that helps in getting some intricate details on data you have\n",
    "bvb_passes.groupby(['playerName']).agg({\"type\":'count'}).sort_values(by='type',ascending=False)"
   ]
  },
  {
   "cell_type": "code",
   "execution_count": null,
   "id": "41125d40",
   "metadata": {},
   "outputs": [],
   "source": [
    "passes=bvb_passes.groupby(['playerName']).agg({\"type\":'count'}).sort_values(by='type',ascending=False).reset_index()"
   ]
  },
  {
   "cell_type": "code",
   "execution_count": null,
   "id": "11b65dd5",
   "metadata": {},
   "outputs": [],
   "source": [
    "passes.head(5)"
   ]
  },
  {
   "cell_type": "code",
   "execution_count": null,
   "id": "f1364488",
   "metadata": {},
   "outputs": [],
   "source": [
    "passes=passes.head(5)"
   ]
  },
  {
   "cell_type": "markdown",
   "id": "d1eb16ee",
   "metadata": {},
   "source": [
    "# Matplotlib"
   ]
  },
  {
   "cell_type": "code",
   "execution_count": null,
   "id": "b96b8931",
   "metadata": {},
   "outputs": [],
   "source": [
    "from PIL import Image\n",
    "img5= Image.open(\"C:/Users/Rahul/Documents/Schlotterbeck.png\")"
   ]
  },
  {
   "cell_type": "code",
   "execution_count": null,
   "id": "bfdb0894",
   "metadata": {},
   "outputs": [],
   "source": [
    "import matplotlib.pyplot as plt\n",
    "fig, ax = plt.subplots()\n",
    "ax.barh(passes['playerName'],passes['type'])\n",
    "ax.set_title('BVB Most Passes Played- Top5')\n",
    "ax.set_xlabel('Passes')\n",
    "newax3 = fig.add_axes([0.1,0.14,1.5,0.13]) # add a new axis so as to add an image\n",
    "newax3.imshow(img5)\n",
    "newax3.axis('off')"
   ]
  },
  {
   "cell_type": "markdown",
   "id": "38d03c3c",
   "metadata": {},
   "source": [
    "# MPL Soccer"
   ]
  },
  {
   "cell_type": "code",
   "execution_count": null,
   "id": "0ab3e5d4",
   "metadata": {},
   "outputs": [],
   "source": [
    "import mplsoccer as mps"
   ]
  },
  {
   "cell_type": "code",
   "execution_count": null,
   "id": "f09b243d",
   "metadata": {},
   "outputs": [],
   "source": [
    "jude=bvb_only[bvb_only['playerName']=='Jude Bellingham']"
   ]
  },
  {
   "cell_type": "code",
   "execution_count": null,
   "id": "11a34b72",
   "metadata": {},
   "outputs": [],
   "source": [
    "len(jude['matchId'].unique())"
   ]
  },
  {
   "cell_type": "code",
   "execution_count": null,
   "id": "8fb9da68",
   "metadata": {
    "scrolled": true
   },
   "outputs": [],
   "source": [
    "jude # all actions jude bellingham made last season"
   ]
  },
  {
   "cell_type": "code",
   "execution_count": null,
   "id": "aa3244e8",
   "metadata": {},
   "outputs": [],
   "source": [
    "jude_passes=jude[jude['type']=='Pass']"
   ]
  },
  {
   "cell_type": "code",
   "execution_count": null,
   "id": "c2508ede",
   "metadata": {},
   "outputs": [],
   "source": [
    "shots=['MissedShots','SavedShot','ShotOnPost']\n",
    "goals=['Goal']\n",
    "def_actions=['BallRecovery','Clearance','Tackle','Challenge','Interception','BlockedPass']"
   ]
  },
  {
   "cell_type": "code",
   "execution_count": null,
   "id": "a9be808f",
   "metadata": {},
   "outputs": [],
   "source": [
    "from urllib.request import urlopen\n",
    "jude_img=Image.open(urlopen('https://i.bundesliga.com/player/dfl-obj-002ge9-dfl-clu-000007-dfl-sea-0001k7.png'))"
   ]
  },
  {
   "cell_type": "code",
   "execution_count": null,
   "id": "f0b44e09",
   "metadata": {},
   "outputs": [],
   "source": [
    "from mplsoccer import add_image"
   ]
  },
  {
   "cell_type": "code",
   "execution_count": null,
   "id": "a976d3e5",
   "metadata": {},
   "outputs": [],
   "source": [
    "# Let's plot passes, goals, defensive actions, pass flow for Jude Bellingham\n",
    "pitch=mps.VerticalPitch(pitch_type='opta',pitch_color='green',line_color='white')\n",
    "fig,ax=pitch.grid(nrows=1,ncols=3,title_height=0.2,axis=False,grid_width=0.9,figheight=30)\n",
    "fig.set_facecolor('green')\n",
    "pitch.arrows(jude_passes[jude_passes['outcomeType']=='Successful']['x'],\n",
    "            jude_passes[jude_passes['outcomeType']=='Successful']['y'],\n",
    "             jude_passes[jude_passes['outcomeType']=='Successful']['endX'],\n",
    "            jude_passes[jude_passes['outcomeType']=='Successful']['endY'],color='#00FF00',ax=ax['pitch'][0],label='Succ. Passes')\n",
    "pitch.arrows(jude_passes[jude_passes['outcomeType']=='Unsuccessful']['x'],\n",
    "            jude_passes[jude_passes['outcomeType']=='Unsuccessful']['y'],\n",
    "             jude_passes[jude_passes['outcomeType']=='Unsuccessful']['endX'],\n",
    "            jude_passes[jude_passes['outcomeType']=='Unsuccessful']['endY'],color='#FF69B4',ax=ax['pitch'][0],label='Unsucc. Passes')\n",
    "pitch.scatter(jude[jude['type'].isin(shots)]['x'],jude[jude['type'].isin(shots)]['y'],\n",
    "             ax=ax['pitch'][1],color='#FF00FF',edgecolor='black',s=500)\n",
    "pitch.scatter(jude[jude['type'].isin(goals)]['x'],jude[jude['type'].isin(goals)]['y'],\n",
    "             ax=ax['pitch'][1],marker='football',c='white',edgecolor='black',s=500)\n",
    "bins=(6,4)\n",
    "bs_heatmap1 = pitch.bin_statistic(jude_passes[\"x\"], jude_passes[\"y\"], statistic='count', bins=bins)\n",
    "hm = pitch.heatmap(bs_heatmap1, ax=ax[\"pitch\"][2], cmap='Blues',edgecolor=\"black\")\n",
    "# plot the pass flow map with a single color ('black') and length of the arrow (5)\n",
    "fm = pitch.flow(jude_passes[\"x\"],jude_passes[\"y\"],\n",
    "                jude_passes[\"endX\"],jude_passes[\"endY\"],\n",
    "                color='black', arrow_type='same',\n",
    "                arrow_length=5, bins=bins, ax=ax[\"pitch\"][2])\n",
    "ax['pitch'][0].set_title('Jude Bellingham Passes Played',fontsize=40,color='white')\n",
    "ax['pitch'][0].legend(fontsize=20,loc='upper left')\n",
    "ax['pitch'][1].set_title('Jude Bellingham Shots & Goals',fontsize=40,color='white')\n",
    "ax['pitch'][2].set_title('Jude Bellingham Pass Flow',fontsize=40,color='white')\n",
    "ax['title'].text(0.3,1,'Jude Bellingham Player Report (made by: Name)',color='white',fontsize=55)\n",
    "add_image(jude_img,fig, left=0.4, bottom=0.82, width=0.2, height=0.17)"
   ]
  }
 ],
 "metadata": {
  "kernelspec": {
   "display_name": "Python 3 (ipykernel)",
   "language": "python",
   "name": "python3"
  },
  "language_info": {
   "codemirror_mode": {
    "name": "ipython",
    "version": 3
   },
   "file_extension": ".py",
   "mimetype": "text/x-python",
   "name": "python",
   "nbconvert_exporter": "python",
   "pygments_lexer": "ipython3",
   "version": "3.9.7"
  }
 },
 "nbformat": 4,
 "nbformat_minor": 5
}
